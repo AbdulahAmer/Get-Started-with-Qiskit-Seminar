{
 "cells": [
  {
   "cell_type": "code",
   "execution_count": 1,
   "metadata": {},
   "outputs": [],
   "source": [
    "from qiskit import * \n",
    "from qiskit.visualization import * \n",
    "\n",
    "S_simulator=Aer.backends(name='statevector_simulator')[0]\n",
    "M_simulator=Aer.backends(name='qasm_simulator')[0]"
   ]
  },
  {
   "cell_type": "code",
   "execution_count": 2,
   "metadata": {},
   "outputs": [
    {
     "data": {
      "text/html": [
       "<pre style=\"word-wrap: normal;white-space: pre;background: #fff0;line-height: 1.1;font-family: &quot;Courier New&quot;,Courier,monospace\">         \n",
       "q0_0: |0>\n",
       "         \n",
       "q0_1: |0>\n",
       "         </pre>"
      ],
      "text/plain": [
       "<qiskit.visualization.text.TextDrawing at 0x28e15625908>"
      ]
     },
     "execution_count": 2,
     "metadata": {},
     "output_type": "execute_result"
    }
   ],
   "source": [
    "#I Fill a Quantum register with 2 qubits \n",
    "qregister=QuantumRegister(2)\n",
    "\n",
    "#Define a quantum circuit \n",
    "#stuff in () are called arguments \n",
    "qcircuit=QuantumCircuit(qregister)\n",
    "\n",
    "#draws a diagram \n",
    "qcircuit.draw()"
   ]
  },
  {
   "cell_type": "code",
   "execution_count": 3,
   "metadata": {},
   "outputs": [
    {
     "data": {
      "image/png": "[encoded data removed]",
      "text/plain": [
       "<Figure size 167.356x144.48 with 1 Axes>"
      ]
     },
     "execution_count": 3,
     "metadata": {},
     "output_type": "execute_result"
    }
   ],
   "source": [
    "#draws a better diagram \n",
    "qcircuit.draw(output='mpl')"
   ]
  },
  {
   "cell_type": "code",
   "execution_count": 4,
   "metadata": {},
   "outputs": [
    {
     "data": {
      "image/png": "[encoded data removed]",
      "text/plain": [
       "<Figure size 167.356x144.48 with 1 Axes>"
      ]
     },
     "execution_count": 4,
     "metadata": {},
     "output_type": "execute_result"
    }
   ],
   "source": [
    "circuit_drawer(qcircuit, output='mpl')"
   ]
  },
  {
   "cell_type": "code",
   "execution_count": 5,
   "metadata": {},
   "outputs": [
    {
     "data": {
      "text/plain": [
       "<qiskit.circuit.instructionset.InstructionSet at 0x28e1680c4c8>"
      ]
     },
     "execution_count": 5,
     "metadata": {},
     "output_type": "execute_result"
    }
   ],
   "source": [
    "\n",
    "#Python counts starting at 0\n",
    "#.h on a circuit applies the haddamard gate \n",
    "#.x on a circuit applies the x gate and etc \n",
    "# qcircuit.x(0) # Applies the x gate on the 1st (zeroth) qubit\n",
    "qcircuit.h(0)\n",
    "qcircuit.h(1)\n",
    "qcircuit.barrier()"
   ]
  },
  {
   "cell_type": "code",
   "execution_count": 6,
   "metadata": {},
   "outputs": [
    {
     "data": {
      "text/html": [
       "<pre style=\"word-wrap: normal;white-space: pre;background: #fff0;line-height: 1.1;font-family: &quot;Courier New&quot;,Courier,monospace\">         ┌───┐ ░ \n",
       "q0_0: |0>┤ H ├─░─\n",
       "         ├───┤ ░ \n",
       "q0_1: |0>┤ H ├─░─\n",
       "         └───┘ ░ </pre>"
      ],
      "text/plain": [
       "<qiskit.visualization.text.TextDrawing at 0x28e1680cc08>"
      ]
     },
     "execution_count": 6,
     "metadata": {},
     "output_type": "execute_result"
    }
   ],
   "source": [
    "#Without matplot lib\n",
    "qcircuit.draw()\n"
   ]
  },
  {
   "cell_type": "code",
   "execution_count": 7,
   "metadata": {},
   "outputs": [
    {
     "data": {
      "image/png": "[encoded data removed]",
      "text/plain": [
       "<Figure size 287.756x144.48 with 1 Axes>"
      ]
     },
     "execution_count": 7,
     "metadata": {},
     "output_type": "execute_result"
    }
   ],
   "source": [
    "#with matplotlib\n",
    "qcircuit.draw(output='mpl')"
   ]
  },
  {
   "cell_type": "code",
   "execution_count": 8,
   "metadata": {},
   "outputs": [
    {
     "name": "stdout",
     "output_type": "stream",
     "text": [
      "[0.5+0.j 0.5+0.j 0.5+0.j 0.5+0.j]\n"
     ]
    }
   ],
   "source": [
    "#Getting a statevector \n",
    "job=execute(qcircuit, S_simulator)\n",
    "ket=job.result().get_statevector()\n",
    "#print it out \n",
    "print(ket)\n",
    "#python a+bj complex numbers "
   ]
  },
  {
   "cell_type": "code",
   "execution_count": 9,
   "metadata": {},
   "outputs": [
    {
     "name": "stdout",
     "output_type": "stream",
     "text": [
      "[0.5+0.j 0.5+0.j 0.5+0.j 0.5+0.j]\n"
     ]
    }
   ],
   "source": [
    "new_circuit=QuantumCircuit(qregister)\n",
    "new_circuit.initialize(ket, qregister)\n",
    "\n",
    "new_job=execute(new_circuit, S_simulator)\n",
    "new_ket=new_job.result().get_statevector()\n",
    "\n",
    "print(new_ket)\n"
   ]
  },
  {
   "cell_type": "code",
   "execution_count": 10,
   "metadata": {},
   "outputs": [
    {
     "name": "stderr",
     "output_type": "stream",
     "text": [
      "C:\\Users\\scien\\Anaconda3\\lib\\site-packages\\qiskit\\visualization\\tools\\pi_check.py:51: ComplexWarning: Casting complex values to real discards the imaginary part\n",
      "  inpt = float(inpt)\n"
     ]
    },
    {
     "data": {
      "text/html": [
       "<pre style=\"word-wrap: normal;white-space: pre;background: #fff0;line-height: 1.1;font-family: &quot;Courier New&quot;,Courier,monospace\">         ┌──────────────────────────────┐\n",
       "q0_0: |0>┤0                             ├\n",
       "         │  initialize(0.5,0.5,0.5,0.5) │\n",
       "q0_1: |0>┤1                             ├\n",
       "         └──────────────────────────────┘</pre>"
      ],
      "text/plain": [
       "<qiskit.visualization.text.TextDrawing at 0x28e1687d648>"
      ]
     },
     "execution_count": 10,
     "metadata": {},
     "output_type": "execute_result"
    }
   ],
   "source": [
    "new_circuit.draw()"
   ]
  },
  {
   "cell_type": "code",
   "execution_count": 11,
   "metadata": {},
   "outputs": [
    {
     "data": {
      "text/html": [
       "<pre style=\"word-wrap: normal;white-space: pre;background: #fff0;line-height: 1.1;font-family: &quot;Courier New&quot;,Courier,monospace\">         ┌───┐ ░ ┌─┐   \n",
       "q0_0: |0>┤ H ├─░─┤M├───\n",
       "         ├───┤ ░ └╥┘┌─┐\n",
       "q0_1: |0>┤ H ├─░──╫─┤M├\n",
       "         └───┘ ░  ║ └╥┘\n",
       " c0_0: 0 ═════════╩══╬═\n",
       "                     ║ \n",
       " c0_1: 0 ════════════╩═\n",
       "                       </pre>"
      ],
      "text/plain": [
       "<qiskit.visualization.text.TextDrawing at 0x28e1686b248>"
      ]
     },
     "execution_count": 11,
     "metadata": {},
     "output_type": "execute_result"
    }
   ],
   "source": [
    "#make a classical register to measure stuff\n",
    "cregister=ClassicalRegister(2)\n",
    "#add classical register to qcircuit \n",
    "qcircuit.add_register(cregister)\n",
    "\n",
    "#make measurements (measurement 'gates')\n",
    "qcircuit.measure(qregister[0], cregister[0])\n",
    "\n",
    "qcircuit.measure(qregister[1], cregister[1])\n",
    "\n",
    "qcircuit.draw()"
   ]
  },
  {
   "cell_type": "code",
   "execution_count": 12,
   "metadata": {},
   "outputs": [
    {
     "data": {
      "image/png": "[encoded data removed]",
      "text/plain": [
       "<Figure size 408.156x204.68 with 1 Axes>"
      ]
     },
     "execution_count": 12,
     "metadata": {},
     "output_type": "execute_result"
    }
   ],
   "source": [
    "qcircuit.draw(output='mpl')"
   ]
  },
  {
   "cell_type": "code",
   "execution_count": 13,
   "metadata": {},
   "outputs": [
    {
     "name": "stdout",
     "output_type": "stream",
     "text": [
      "{'01': 1}\n"
     ]
    },
    {
     "data": {
      "image/png": "[encoded data removed]",
      "text/plain": [
       "<Figure size 504x360 with 1 Axes>"
      ]
     },
     "execution_count": 13,
     "metadata": {},
     "output_type": "execute_result"
    }
   ],
   "source": [
    "measurement=execute(qcircuit, M_simulator, shots=1)\n",
    "result=measurement.result().get_counts()\n",
    "#go to command line and type pip install matplotlib \n",
    "#For Lisa pip3 install matplotlib \n",
    "#prints states and counts \n",
    "print(result)\n",
    "plot_histogram(result)"
   ]
  },
  {
   "cell_type": "code",
   "execution_count": 14,
   "metadata": {},
   "outputs": [
    {
     "data": {
      "text/html": [
       "<pre style=\"word-wrap: normal;white-space: pre;background: #fff0;line-height: 1.1;font-family: &quot;Courier New&quot;,Courier,monospace\">         \n",
       "q1_0: |0>\n",
       "         \n",
       "q1_1: |0>\n",
       "         \n",
       "q1_2: |0>\n",
       "         \n",
       " c1_0: 0 \n",
       "         \n",
       " c2_0: 0 \n",
       "         </pre>"
      ],
      "text/plain": [
       "<qiskit.visualization.text.TextDrawing at 0x28e16948208>"
      ]
     },
     "execution_count": 14,
     "metadata": {},
     "output_type": "execute_result"
    }
   ],
   "source": [
    "\n",
    "qr=QuantumRegister(3)\n",
    "crz=ClassicalRegister(1)#holds measurement to tell us to use X gate on Bob's qubit \n",
    "crx=ClassicalRegister(1)#holds measurement to tell us to use Z gate on Bob's qubit \n",
    "teleportation_circuit=QuantumCircuit(qr, crz, crx)\n",
    "\n",
    "teleportation_circuit.draw()"
   ]
  },
  {
   "cell_type": "code",
   "execution_count": 15,
   "metadata": {},
   "outputs": [
    {
     "data": {
      "image/png": "[encoded data removed]",
      "text/plain": [
       "<Figure size 167.356x325.08 with 1 Axes>"
      ]
     },
     "execution_count": 15,
     "metadata": {},
     "output_type": "execute_result"
    }
   ],
   "source": [
    "teleportation_circuit.draw(output='mpl') "
   ]
  },
  {
   "cell_type": "code",
   "execution_count": 16,
   "metadata": {},
   "outputs": [
    {
     "data": {
      "text/plain": [
       "<qiskit.circuit.instructionset.InstructionSet at 0x28e16a2d7c8>"
      ]
     },
     "execution_count": 16,
     "metadata": {},
     "output_type": "execute_result"
    }
   ],
   "source": [
    "#STEP 5 COMEBACK HERE! \n",
    "#import a helpful package for math stuff including sqrt \n",
    "from math import * \n",
    "\n",
    "\n",
    "#define a state for a single qubit \n",
    "psi=[1/sqrt(2),1/sqrt(2)]\n",
    "\n",
    "from qiskit.extensions import Initialize \n",
    "\n",
    "#qcircuit.initialize #This initialize circuits NOT states \n",
    "\n",
    "init_gate = Initialize(psi)\n",
    "\n",
    "teleportation_circuit.append(init_gate, [0]) #use init gate on ALice's qubit to put it into that state. "
   ]
  },
  {
   "cell_type": "code",
   "execution_count": 17,
   "metadata": {},
   "outputs": [
    {
     "data": {
      "text/html": [
       "<pre style=\"word-wrap: normal;white-space: pre;background: #fff0;line-height: 1.1;font-family: &quot;Courier New&quot;,Courier,monospace\">         ┌─────────────────────────────┐      ░ \n",
       "q1_0: |0>┤ Initialize(0.70711,0.70711) ├──────░─\n",
       "         └────────────┬───┬────────────┘      ░ \n",
       "q1_1: |0>─────────────┤ H ├───────────────■───░─\n",
       "                      └───┘             ┌─┴─┐ ░ \n",
       "q1_2: |0>───────────────────────────────┤ X ├─░─\n",
       "                                        └───┘ ░ \n",
       " c1_0: 0 ═══════════════════════════════════════\n",
       "                                                \n",
       " c2_0: 0 ═══════════════════════════════════════\n",
       "                                                </pre>"
      ],
      "text/plain": [
       "<qiskit.visualization.text.TextDrawing at 0x28e1693f388>"
      ]
     },
     "execution_count": 17,
     "metadata": {},
     "output_type": "execute_result"
    }
   ],
   "source": [
    "'''\n",
    "Step 1 \n",
    "\n",
    "Alice has the first qubit in some state psi \n",
    "Bob has the third qubit\n",
    "Bob entangles his qubit with a the second qubit ancillary qubit to make the teleportation. \n",
    "'''\n",
    "\n",
    "###Set up entanglement between Bob's and ancillary qubit \n",
    "teleportation_circuit.h(1)\n",
    "#CNOT gate\n",
    "teleportation_circuit.cx(1,2)\n",
    "#Barriers are important between steps! \n",
    "teleportation_circuit.barrier()\n",
    "teleportation_circuit.draw()"
   ]
  },
  {
   "cell_type": "code",
   "execution_count": 18,
   "metadata": {},
   "outputs": [
    {
     "data": {
      "text/html": [
       "<pre style=\"word-wrap: normal;white-space: pre;background: #fff0;line-height: 1.1;font-family: &quot;Courier New&quot;,Courier,monospace\">         ┌─────────────────────────────┐      ░      ┌───┐ ░ \n",
       "q1_0: |0>┤ Initialize(0.70711,0.70711) ├──────░───■──┤ H ├─░─\n",
       "         └────────────┬───┬────────────┘      ░ ┌─┴─┐└───┘ ░ \n",
       "q1_1: |0>─────────────┤ H ├───────────────■───░─┤ X ├──────░─\n",
       "                      └───┘             ┌─┴─┐ ░ └───┘      ░ \n",
       "q1_2: |0>───────────────────────────────┤ X ├─░────────────░─\n",
       "                                        └───┘ ░            ░ \n",
       " c1_0: 0 ════════════════════════════════════════════════════\n",
       "                                                             \n",
       " c2_0: 0 ════════════════════════════════════════════════════\n",
       "                                                             </pre>"
      ],
      "text/plain": [
       "<qiskit.visualization.text.TextDrawing at 0x28e168952c8>"
      ]
     },
     "execution_count": 18,
     "metadata": {},
     "output_type": "execute_result"
    }
   ],
   "source": [
    "#STEP 2 \n",
    "\n",
    "teleportation_circuit.cx(0,1) #Cnot between Alice and BOB\n",
    "teleportation_circuit.h(0)\n",
    "teleportation_circuit.barrier()\n",
    "\n",
    "teleportation_circuit.draw()"
   ]
  },
  {
   "cell_type": "code",
   "execution_count": 19,
   "metadata": {},
   "outputs": [
    {
     "data": {
      "text/html": [
       "<pre style=\"word-wrap: normal;white-space: pre;background: #fff0;line-height: 1.1;font-family: &quot;Courier New&quot;,Courier,monospace\">         ┌─────────────────────────────┐      ░      ┌───┐ ░ ┌─┐    ░ \n",
       "q1_0: |0>┤ Initialize(0.70711,0.70711) ├──────░───■──┤ H ├─░─┤M├────░─\n",
       "         └────────────┬───┬────────────┘      ░ ┌─┴─┐└───┘ ░ └╥┘┌─┐ ░ \n",
       "q1_1: |0>─────────────┤ H ├───────────────■───░─┤ X ├──────░──╫─┤M├─░─\n",
       "                      └───┘             ┌─┴─┐ ░ └───┘      ░  ║ └╥┘ ░ \n",
       "q1_2: |0>───────────────────────────────┤ X ├─░────────────░──╫──╫──░─\n",
       "                                        └───┘ ░            ░  ║  ║  ░ \n",
       " c1_0: 0 ═════════════════════════════════════════════════════╩══╬════\n",
       "                                                                 ║    \n",
       " c2_0: 0 ════════════════════════════════════════════════════════╩════\n",
       "                                                                      </pre>"
      ],
      "text/plain": [
       "<qiskit.visualization.text.TextDrawing at 0x28e169f7288>"
      ]
     },
     "execution_count": 19,
     "metadata": {},
     "output_type": "execute_result"
    }
   ],
   "source": [
    "#Step 3 \n",
    "\n",
    "teleportation_circuit.measure(0,0)\n",
    "teleportation_circuit.measure(1,1)\n",
    "\n",
    "teleportation_circuit.barrier()\n",
    "\n",
    "teleportation_circuit.draw()\n"
   ]
  },
  {
   "cell_type": "code",
   "execution_count": 20,
   "metadata": {},
   "outputs": [
    {
     "data": {
      "image/png": "[encoded data removed]",
      "text/plain": [
       "<Figure size 769.356x325.08 with 1 Axes>"
      ]
     },
     "execution_count": 20,
     "metadata": {},
     "output_type": "execute_result"
    }
   ],
   "source": [
    "teleportation_circuit.draw(output='mpl')"
   ]
  },
  {
   "cell_type": "code",
   "execution_count": 21,
   "metadata": {},
   "outputs": [
    {
     "data": {
      "image/png": "[encoded data removed]",
      "text/plain": [
       "<Figure size 949.956x325.08 with 1 Axes>"
      ]
     },
     "execution_count": 21,
     "metadata": {},
     "output_type": "execute_result"
    }
   ],
   "source": [
    "#STEP 4 \n",
    "\n",
    "#apply z and x accordingly \n",
    "teleportation_circuit.z(2).c_if(crz, 1)\n",
    "teleportation_circuit.x(2).c_if(crx, 1)\n",
    "\n",
    "teleportation_circuit.barrier()\n",
    "\n",
    "teleportation_circuit.draw(output='mpl')"
   ]
  },
  {
   "cell_type": "code",
   "execution_count": 22,
   "metadata": {},
   "outputs": [
    {
     "data": {
      "text/html": [
       "<pre style=\"word-wrap: normal;white-space: pre;background: #fff0;line-height: 1.1;font-family: &quot;Courier New&quot;,Courier,monospace\">         ┌─────────────────────────────┐      ░      ┌───┐ ░ ┌─┐    ░        »\n",
       "q1_0: |0>┤ Initialize(0.70711,0.70711) ├──────░───■──┤ H ├─░─┤M├────░────────»\n",
       "         └────────────┬───┬────────────┘      ░ ┌─┴─┐└───┘ ░ └╥┘┌─┐ ░        »\n",
       "q1_1: |0>─────────────┤ H ├───────────────■───░─┤ X ├──────░──╫─┤M├─░────────»\n",
       "                      └───┘             ┌─┴─┐ ░ └───┘      ░  ║ └╥┘ ░  ┌───┐ »\n",
       "q1_2: |0>───────────────────────────────┤ X ├─░────────────░──╫──╫──░──┤ Z ├─»\n",
       "                                        └───┘ ░            ░  ║  ║  ░  └─┬─┘ »\n",
       "                                                              ║       ┌──┴──┐»\n",
       " c1_0: 0 ═════════════════════════════════════════════════════╩═══════╡ = 1 ╞»\n",
       "                                                                 ║    └─────┘»\n",
       " c2_0: 0 ════════════════════════════════════════════════════════╩═══════════»\n",
       "                                                                             »\n",
       "«              ░ \n",
       "«q1_0: ────────░─\n",
       "«              ░ \n",
       "«q1_1: ────────░─\n",
       "«       ┌───┐  ░ \n",
       "«q1_2: ─┤ X ├──░─\n",
       "«       └─┬─┘  ░ \n",
       "«c1_0: ═══╪══════\n",
       "«      ┌──┴──┐   \n",
       "«c2_0: ╡ = 1 ╞═══\n",
       "«      └─────┘   </pre>"
      ],
      "text/plain": [
       "<qiskit.visualization.text.TextDrawing at 0x28e16b734c8>"
      ]
     },
     "execution_count": 22,
     "metadata": {},
     "output_type": "execute_result"
    }
   ],
   "source": [
    "teleportation_circuit.draw()"
   ]
  },
  {
   "cell_type": "code",
   "execution_count": 23,
   "metadata": {},
   "outputs": [],
   "source": [
    "#STEP 5\n",
    "#GOBACK TO BEFORE STEP 1\n"
   ]
  },
  {
   "cell_type": "code",
   "execution_count": 24,
   "metadata": {},
   "outputs": [
    {
     "data": {
      "text/html": [
       "<pre style=\"word-wrap: normal;white-space: pre;background: #fff0;line-height: 1.1;font-family: &quot;Courier New&quot;,Courier,monospace\">         ┌─────────────────────────────┐      ░      ┌───┐ ░ ┌─┐    ░        »\n",
       "q1_0: |0>┤ Initialize(0.70711,0.70711) ├──────░───■──┤ H ├─░─┤M├────░────────»\n",
       "         └────────────┬───┬────────────┘      ░ ┌─┴─┐└───┘ ░ └╥┘┌─┐ ░        »\n",
       "q1_1: |0>─────────────┤ H ├───────────────■───░─┤ X ├──────░──╫─┤M├─░────────»\n",
       "                      └───┘             ┌─┴─┐ ░ └───┘      ░  ║ └╥┘ ░  ┌───┐ »\n",
       "q1_2: |0>───────────────────────────────┤ X ├─░────────────░──╫──╫──░──┤ Z ├─»\n",
       "                                        └───┘ ░            ░  ║  ║  ░  └─┬─┘ »\n",
       "                                                              ║       ┌──┴──┐»\n",
       " c1_0: 0 ═════════════════════════════════════════════════════╩═══════╡ = 1 ╞»\n",
       "                                                                 ║    └─────┘»\n",
       " c2_0: 0 ════════════════════════════════════════════════════════╩═══════════»\n",
       "                                                                             »\n",
       " c3_0: 0 ════════════════════════════════════════════════════════════════════»\n",
       "                                                                             »\n",
       "«              ░                    \n",
       "«q1_0: ────────░────────────────────\n",
       "«              ░                    \n",
       "«q1_1: ────────░────────────────────\n",
       "«       ┌───┐  ░ ┌──────────────┐┌─┐\n",
       "«q1_2: ─┤ X ├──░─┤ Disentangler ├┤M├\n",
       "«       └─┬─┘  ░ └──────────────┘└╥┘\n",
       "«c1_0: ═══╪═══════════════════════╬═\n",
       "«      ┌──┴──┐                    ║ \n",
       "«c2_0: ╡ = 1 ╞════════════════════╬═\n",
       "«      └─────┘                    ║ \n",
       "«c3_0: ═══════════════════════════╩═\n",
       "«                                   </pre>"
      ],
      "text/plain": [
       "<qiskit.visualization.text.TextDrawing at 0x28e169d23c8>"
      ]
     },
     "execution_count": 24,
     "metadata": {},
     "output_type": "execute_result"
    }
   ],
   "source": [
    "#Step 6 How do we check? \n",
    "\n",
    "inverse_init_gate=init_gate.gates_to_uncompute()\n",
    "\n",
    "teleportation_circuit.append(inverse_init_gate, [2])\n",
    "\n",
    "cresult=ClassicalRegister(1)\n",
    "\n",
    "teleportation_circuit.add_register(cresult)\n",
    "\n",
    "teleportation_circuit.measure(2, 2)\n",
    "\n",
    "teleportation_circuit.draw()"
   ]
  },
  {
   "cell_type": "code",
   "execution_count": 25,
   "metadata": {},
   "outputs": [
    {
     "data": {
      "image/png": "[encoded data removed]",
      "text/plain": [
       "<Figure size 1250.96x385.28 with 1 Axes>"
      ]
     },
     "execution_count": 25,
     "metadata": {},
     "output_type": "execute_result"
    }
   ],
   "source": [
    "teleportation_circuit.draw(output='mpl')"
   ]
  },
  {
   "cell_type": "code",
   "execution_count": 26,
   "metadata": {},
   "outputs": [
    {
     "name": "stdout",
     "output_type": "stream",
     "text": [
      "{'0 0 0': 264, '0 0 1': 294, '0 1 0': 216, '0 1 1': 250}\n"
     ]
    },
    {
     "data": {
      "image/png": "[encoded data removed]",
      "text/plain": [
       "<Figure size 504x360 with 1 Axes>"
      ]
     },
     "execution_count": 26,
     "metadata": {},
     "output_type": "execute_result"
    }
   ],
   "source": [
    "Bob=execute(teleportation_circuit, M_simulator)\n",
    "Finally=Bob.result().get_counts()\n",
    "\n",
    "print(Finally)\n",
    "\n",
    "plot_histogram(Finally)"
   ]
  },
  {
   "cell_type": "code",
   "execution_count": null,
   "metadata": {},
   "outputs": [],
   "source": []
  }
 ],
 "metadata": {
  "kernelspec": {
   "display_name": "Python 3",
   "language": "python",
   "name": "python3"
  },
  "language_info": {
   "codemirror_mode": {
    "name": "ipython",
    "version": 3
   },
   "file_extension": ".py",
   "mimetype": "text/x-python",
   "name": "python",
   "nbconvert_exporter": "python",
   "pygments_lexer": "ipython3",
   "version": "3.7.6"
  }
 },
 "nbformat": 4,
 "nbformat_minor": 4
}
